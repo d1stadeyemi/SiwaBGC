{
  "nbformat": 4,
  "nbformat_minor": 0,
  "metadata": {
    "colab": {
      "provenance": []
    },
    "kernelspec": {
      "name": "python3",
      "display_name": "Python 3"
    },
    "language_info": {
      "name": "python"
    }
  },
  "cells": [
    {
      "cell_type": "code",
      "execution_count": 1,
      "metadata": {
        "id": "XXP_CgBM46wR"
      },
      "outputs": [],
      "source": [
        "import matplotlib.pyplot as plt\n",
        "import pandas as pd\n",
        "import numpy as np"
      ]
    },
    {
      "cell_type": "code",
      "source": [
        "df = pd.read_csv(\"/content/GCF_distance.csv\")\n",
        "df.head()"
      ],
      "metadata": {
        "colab": {
          "base_uri": "https://localhost:8080/",
          "height": 206
        },
        "id": "5eX50CjhC9mk",
        "outputId": "0b13eafa-5916-4e62-d847-dabe56036a3e"
      },
      "execution_count": 2,
      "outputs": [
        {
          "output_type": "execute_result",
          "data": {
            "text/plain": [
              "  Samples                                                BGC BGC class  \\\n",
              "0      CS  CS_MA1_NODE_1_length_373214_cov_10.948019.regi...      NRPS   \n",
              "1      CS  CS_MA1_NODE_11_length_165630_cov_10.811607.reg...   Terpene   \n",
              "2      CS  CS_MA1_NODE_14_length_152553_cov_10.893518.reg...     RiPPs   \n",
              "3      CS  CS_MA1_NODE_18_length_136436_cov_10.755381.reg...       PKS   \n",
              "4      CS  CS_MA1_NODE_19_length_136387_cov_10.888497.reg...   Terpene   \n",
              "\n",
              "   Distance from Atlas  Distance from MiBIG  \n",
              "0             1.010230             1.134367  \n",
              "1             0.903621             1.030998  \n",
              "2             0.998154             1.086996  \n",
              "3             1.035052             1.016302  \n",
              "4             0.726072             1.159078  "
            ],
            "text/html": [
              "\n",
              "  <div id=\"df-141ef635-36e2-4020-9424-9cf42b87505f\" class=\"colab-df-container\">\n",
              "    <div>\n",
              "<style scoped>\n",
              "    .dataframe tbody tr th:only-of-type {\n",
              "        vertical-align: middle;\n",
              "    }\n",
              "\n",
              "    .dataframe tbody tr th {\n",
              "        vertical-align: top;\n",
              "    }\n",
              "\n",
              "    .dataframe thead th {\n",
              "        text-align: right;\n",
              "    }\n",
              "</style>\n",
              "<table border=\"1\" class=\"dataframe\">\n",
              "  <thead>\n",
              "    <tr style=\"text-align: right;\">\n",
              "      <th></th>\n",
              "      <th>Samples</th>\n",
              "      <th>BGC</th>\n",
              "      <th>BGC class</th>\n",
              "      <th>Distance from Atlas</th>\n",
              "      <th>Distance from MiBIG</th>\n",
              "    </tr>\n",
              "  </thead>\n",
              "  <tbody>\n",
              "    <tr>\n",
              "      <th>0</th>\n",
              "      <td>CS</td>\n",
              "      <td>CS_MA1_NODE_1_length_373214_cov_10.948019.regi...</td>\n",
              "      <td>NRPS</td>\n",
              "      <td>1.010230</td>\n",
              "      <td>1.134367</td>\n",
              "    </tr>\n",
              "    <tr>\n",
              "      <th>1</th>\n",
              "      <td>CS</td>\n",
              "      <td>CS_MA1_NODE_11_length_165630_cov_10.811607.reg...</td>\n",
              "      <td>Terpene</td>\n",
              "      <td>0.903621</td>\n",
              "      <td>1.030998</td>\n",
              "    </tr>\n",
              "    <tr>\n",
              "      <th>2</th>\n",
              "      <td>CS</td>\n",
              "      <td>CS_MA1_NODE_14_length_152553_cov_10.893518.reg...</td>\n",
              "      <td>RiPPs</td>\n",
              "      <td>0.998154</td>\n",
              "      <td>1.086996</td>\n",
              "    </tr>\n",
              "    <tr>\n",
              "      <th>3</th>\n",
              "      <td>CS</td>\n",
              "      <td>CS_MA1_NODE_18_length_136436_cov_10.755381.reg...</td>\n",
              "      <td>PKS</td>\n",
              "      <td>1.035052</td>\n",
              "      <td>1.016302</td>\n",
              "    </tr>\n",
              "    <tr>\n",
              "      <th>4</th>\n",
              "      <td>CS</td>\n",
              "      <td>CS_MA1_NODE_19_length_136387_cov_10.888497.reg...</td>\n",
              "      <td>Terpene</td>\n",
              "      <td>0.726072</td>\n",
              "      <td>1.159078</td>\n",
              "    </tr>\n",
              "  </tbody>\n",
              "</table>\n",
              "</div>\n",
              "    <div class=\"colab-df-buttons\">\n",
              "\n",
              "  <div class=\"colab-df-container\">\n",
              "    <button class=\"colab-df-convert\" onclick=\"convertToInteractive('df-141ef635-36e2-4020-9424-9cf42b87505f')\"\n",
              "            title=\"Convert this dataframe to an interactive table.\"\n",
              "            style=\"display:none;\">\n",
              "\n",
              "  <svg xmlns=\"http://www.w3.org/2000/svg\" height=\"24px\" viewBox=\"0 -960 960 960\">\n",
              "    <path d=\"M120-120v-720h720v720H120Zm60-500h600v-160H180v160Zm220 220h160v-160H400v160Zm0 220h160v-160H400v160ZM180-400h160v-160H180v160Zm440 0h160v-160H620v160ZM180-180h160v-160H180v160Zm440 0h160v-160H620v160Z\"/>\n",
              "  </svg>\n",
              "    </button>\n",
              "\n",
              "  <style>\n",
              "    .colab-df-container {\n",
              "      display:flex;\n",
              "      gap: 12px;\n",
              "    }\n",
              "\n",
              "    .colab-df-convert {\n",
              "      background-color: #E8F0FE;\n",
              "      border: none;\n",
              "      border-radius: 50%;\n",
              "      cursor: pointer;\n",
              "      display: none;\n",
              "      fill: #1967D2;\n",
              "      height: 32px;\n",
              "      padding: 0 0 0 0;\n",
              "      width: 32px;\n",
              "    }\n",
              "\n",
              "    .colab-df-convert:hover {\n",
              "      background-color: #E2EBFA;\n",
              "      box-shadow: 0px 1px 2px rgba(60, 64, 67, 0.3), 0px 1px 3px 1px rgba(60, 64, 67, 0.15);\n",
              "      fill: #174EA6;\n",
              "    }\n",
              "\n",
              "    .colab-df-buttons div {\n",
              "      margin-bottom: 4px;\n",
              "    }\n",
              "\n",
              "    [theme=dark] .colab-df-convert {\n",
              "      background-color: #3B4455;\n",
              "      fill: #D2E3FC;\n",
              "    }\n",
              "\n",
              "    [theme=dark] .colab-df-convert:hover {\n",
              "      background-color: #434B5C;\n",
              "      box-shadow: 0px 1px 3px 1px rgba(0, 0, 0, 0.15);\n",
              "      filter: drop-shadow(0px 1px 2px rgba(0, 0, 0, 0.3));\n",
              "      fill: #FFFFFF;\n",
              "    }\n",
              "  </style>\n",
              "\n",
              "    <script>\n",
              "      const buttonEl =\n",
              "        document.querySelector('#df-141ef635-36e2-4020-9424-9cf42b87505f button.colab-df-convert');\n",
              "      buttonEl.style.display =\n",
              "        google.colab.kernel.accessAllowed ? 'block' : 'none';\n",
              "\n",
              "      async function convertToInteractive(key) {\n",
              "        const element = document.querySelector('#df-141ef635-36e2-4020-9424-9cf42b87505f');\n",
              "        const dataTable =\n",
              "          await google.colab.kernel.invokeFunction('convertToInteractive',\n",
              "                                                    [key], {});\n",
              "        if (!dataTable) return;\n",
              "\n",
              "        const docLinkHtml = 'Like what you see? Visit the ' +\n",
              "          '<a target=\"_blank\" href=https://colab.research.google.com/notebooks/data_table.ipynb>data table notebook</a>'\n",
              "          + ' to learn more about interactive tables.';\n",
              "        element.innerHTML = '';\n",
              "        dataTable['output_type'] = 'display_data';\n",
              "        await google.colab.output.renderOutput(dataTable, element);\n",
              "        const docLink = document.createElement('div');\n",
              "        docLink.innerHTML = docLinkHtml;\n",
              "        element.appendChild(docLink);\n",
              "      }\n",
              "    </script>\n",
              "  </div>\n",
              "\n",
              "\n",
              "<div id=\"df-bb173fcf-40fb-4302-a752-b2015ff2d0b7\">\n",
              "  <button class=\"colab-df-quickchart\" onclick=\"quickchart('df-bb173fcf-40fb-4302-a752-b2015ff2d0b7')\"\n",
              "            title=\"Suggest charts\"\n",
              "            style=\"display:none;\">\n",
              "\n",
              "<svg xmlns=\"http://www.w3.org/2000/svg\" height=\"24px\"viewBox=\"0 0 24 24\"\n",
              "     width=\"24px\">\n",
              "    <g>\n",
              "        <path d=\"M19 3H5c-1.1 0-2 .9-2 2v14c0 1.1.9 2 2 2h14c1.1 0 2-.9 2-2V5c0-1.1-.9-2-2-2zM9 17H7v-7h2v7zm4 0h-2V7h2v10zm4 0h-2v-4h2v4z\"/>\n",
              "    </g>\n",
              "</svg>\n",
              "  </button>\n",
              "\n",
              "<style>\n",
              "  .colab-df-quickchart {\n",
              "      --bg-color: #E8F0FE;\n",
              "      --fill-color: #1967D2;\n",
              "      --hover-bg-color: #E2EBFA;\n",
              "      --hover-fill-color: #174EA6;\n",
              "      --disabled-fill-color: #AAA;\n",
              "      --disabled-bg-color: #DDD;\n",
              "  }\n",
              "\n",
              "  [theme=dark] .colab-df-quickchart {\n",
              "      --bg-color: #3B4455;\n",
              "      --fill-color: #D2E3FC;\n",
              "      --hover-bg-color: #434B5C;\n",
              "      --hover-fill-color: #FFFFFF;\n",
              "      --disabled-bg-color: #3B4455;\n",
              "      --disabled-fill-color: #666;\n",
              "  }\n",
              "\n",
              "  .colab-df-quickchart {\n",
              "    background-color: var(--bg-color);\n",
              "    border: none;\n",
              "    border-radius: 50%;\n",
              "    cursor: pointer;\n",
              "    display: none;\n",
              "    fill: var(--fill-color);\n",
              "    height: 32px;\n",
              "    padding: 0;\n",
              "    width: 32px;\n",
              "  }\n",
              "\n",
              "  .colab-df-quickchart:hover {\n",
              "    background-color: var(--hover-bg-color);\n",
              "    box-shadow: 0 1px 2px rgba(60, 64, 67, 0.3), 0 1px 3px 1px rgba(60, 64, 67, 0.15);\n",
              "    fill: var(--button-hover-fill-color);\n",
              "  }\n",
              "\n",
              "  .colab-df-quickchart-complete:disabled,\n",
              "  .colab-df-quickchart-complete:disabled:hover {\n",
              "    background-color: var(--disabled-bg-color);\n",
              "    fill: var(--disabled-fill-color);\n",
              "    box-shadow: none;\n",
              "  }\n",
              "\n",
              "  .colab-df-spinner {\n",
              "    border: 2px solid var(--fill-color);\n",
              "    border-color: transparent;\n",
              "    border-bottom-color: var(--fill-color);\n",
              "    animation:\n",
              "      spin 1s steps(1) infinite;\n",
              "  }\n",
              "\n",
              "  @keyframes spin {\n",
              "    0% {\n",
              "      border-color: transparent;\n",
              "      border-bottom-color: var(--fill-color);\n",
              "      border-left-color: var(--fill-color);\n",
              "    }\n",
              "    20% {\n",
              "      border-color: transparent;\n",
              "      border-left-color: var(--fill-color);\n",
              "      border-top-color: var(--fill-color);\n",
              "    }\n",
              "    30% {\n",
              "      border-color: transparent;\n",
              "      border-left-color: var(--fill-color);\n",
              "      border-top-color: var(--fill-color);\n",
              "      border-right-color: var(--fill-color);\n",
              "    }\n",
              "    40% {\n",
              "      border-color: transparent;\n",
              "      border-right-color: var(--fill-color);\n",
              "      border-top-color: var(--fill-color);\n",
              "    }\n",
              "    60% {\n",
              "      border-color: transparent;\n",
              "      border-right-color: var(--fill-color);\n",
              "    }\n",
              "    80% {\n",
              "      border-color: transparent;\n",
              "      border-right-color: var(--fill-color);\n",
              "      border-bottom-color: var(--fill-color);\n",
              "    }\n",
              "    90% {\n",
              "      border-color: transparent;\n",
              "      border-bottom-color: var(--fill-color);\n",
              "    }\n",
              "  }\n",
              "</style>\n",
              "\n",
              "  <script>\n",
              "    async function quickchart(key) {\n",
              "      const quickchartButtonEl =\n",
              "        document.querySelector('#' + key + ' button');\n",
              "      quickchartButtonEl.disabled = true;  // To prevent multiple clicks.\n",
              "      quickchartButtonEl.classList.add('colab-df-spinner');\n",
              "      try {\n",
              "        const charts = await google.colab.kernel.invokeFunction(\n",
              "            'suggestCharts', [key], {});\n",
              "      } catch (error) {\n",
              "        console.error('Error during call to suggestCharts:', error);\n",
              "      }\n",
              "      quickchartButtonEl.classList.remove('colab-df-spinner');\n",
              "      quickchartButtonEl.classList.add('colab-df-quickchart-complete');\n",
              "    }\n",
              "    (() => {\n",
              "      let quickchartButtonEl =\n",
              "        document.querySelector('#df-bb173fcf-40fb-4302-a752-b2015ff2d0b7 button');\n",
              "      quickchartButtonEl.style.display =\n",
              "        google.colab.kernel.accessAllowed ? 'block' : 'none';\n",
              "    })();\n",
              "  </script>\n",
              "</div>\n",
              "\n",
              "    </div>\n",
              "  </div>\n"
            ],
            "application/vnd.google.colaboratory.intrinsic+json": {
              "type": "dataframe",
              "variable_name": "df",
              "summary": "{\n  \"name\": \"df\",\n  \"rows\": 147,\n  \"fields\": [\n    {\n      \"column\": \"Samples\",\n      \"properties\": {\n        \"dtype\": \"category\",\n        \"num_unique_values\": 2,\n        \"samples\": [\n          \"FS\",\n          \"CS\"\n        ],\n        \"semantic_type\": \"\",\n        \"description\": \"\"\n      }\n    },\n    {\n      \"column\": \"BGC\",\n      \"properties\": {\n        \"dtype\": \"string\",\n        \"num_unique_values\": 147,\n        \"samples\": [\n          \"FS_MA4_NODE_7_length_30435_cov_5.322617.region001\",\n          \"CS_MA19_NODE_1_length_508951_cov_34.605621.region001\"\n        ],\n        \"semantic_type\": \"\",\n        \"description\": \"\"\n      }\n    },\n    {\n      \"column\": \"BGC class\",\n      \"properties\": {\n        \"dtype\": \"category\",\n        \"num_unique_values\": 7,\n        \"samples\": [\n          \"NRPS\",\n          \"Terpene\"\n        ],\n        \"semantic_type\": \"\",\n        \"description\": \"\"\n      }\n    },\n    {\n      \"column\": \"Distance from Atlas\",\n      \"properties\": {\n        \"dtype\": \"number\",\n        \"std\": 0.2293136312839015,\n        \"min\": 0.214904729,\n        \"max\": 1.205301754,\n        \"num_unique_values\": 126,\n        \"samples\": [\n          0.928445915,\n          0.688430354\n        ],\n        \"semantic_type\": \"\",\n        \"description\": \"\"\n      }\n    },\n    {\n      \"column\": \"Distance from MiBIG\",\n      \"properties\": {\n        \"dtype\": \"number\",\n        \"std\": 0.1364617469289665,\n        \"min\": 0.648278301,\n        \"max\": 1.288518978,\n        \"num_unique_values\": 124,\n        \"samples\": [\n          1.231784257,\n          1.027731614\n        ],\n        \"semantic_type\": \"\",\n        \"description\": \"\"\n      }\n    }\n  ]\n}"
            }
          },
          "metadata": {},
          "execution_count": 2
        }
      ]
    },
    {
      "cell_type": "markdown",
      "source": [
        "# Visualize distance from BGC Atlas GCFs"
      ],
      "metadata": {
        "id": "eOPFACHtWxjF"
      }
    },
    {
      "cell_type": "code",
      "source": [
        "# Bin distances\n",
        "bin_width = 0.1  # Adjust for your dataset\n",
        "bins = np.arange(0, 2, bin_width)\n",
        "df['Bin'] = pd.cut(df['Distance from Atlas'], bins=bins, right=False)"
      ],
      "metadata": {
        "id": "Ju1cca7oDnLH"
      },
      "execution_count": 3,
      "outputs": []
    },
    {
      "cell_type": "code",
      "source": [
        "# Pivot data for histogram\n",
        "bgc_classes = df['BGC class'].unique()\n",
        "hist_data = df.groupby(['Bin', 'BGC class']).size().unstack(fill_value=0)"
      ],
      "metadata": {
        "colab": {
          "base_uri": "https://localhost:8080/"
        },
        "id": "XqjAfiNfF2CG",
        "outputId": "0c5e45b8-402d-4976-f23e-65958d1a82a8"
      },
      "execution_count": 4,
      "outputs": [
        {
          "output_type": "stream",
          "name": "stderr",
          "text": [
            "<ipython-input-4-05c66927eab6>:3: FutureWarning: The default of observed=False is deprecated and will be changed to True in a future version of pandas. Pass observed=False to retain current behavior or observed=True to adopt the future default and silence this warning.\n",
            "  hist_data = df.groupby(['Bin', 'BGC class']).size().unstack(fill_value=0)\n"
          ]
        }
      ]
    },
    {
      "cell_type": "code",
      "source": [
        "# Plot histogram with stacked bars\n",
        "plt.figure(figsize=(6, 6))\n",
        "bottom = np.zeros(len(bins) - 1)\n",
        "\n",
        "for bgc_class in bgc_classes:\n",
        "    plt.bar(\n",
        "        bins[:-1],  # x-axis: bin edges\n",
        "        hist_data[bgc_class].reindex(hist_data.index, fill_value=0),\n",
        "        width=bin_width,\n",
        "        bottom=bottom,  # stack bars\n",
        "        label=bgc_class\n",
        "    )\n",
        "    bottom += hist_data[bgc_class].reindex(hist_data.index, fill_value=0)\n",
        "\n",
        "# Add labels, legend, and customization\n",
        "plt.xlabel(\"Distance to reference BGCs\")\n",
        "plt.ylabel(\"Number of BGCs\")\n",
        "plt.title(\"BGC distances to BGC Atlas GCFs\")\n",
        "plt.axvline(0.40, color='gray', linestyle='--', label=\"Reference\")\n",
        "plt.legend(title=\"BGC Class\")\n",
        "plt.tight_layout()\n",
        "\n",
        "plt.show()"
      ],
      "metadata": {
        "colab": {
          "base_uri": "https://localhost:8080/",
          "height": 607
        },
        "id": "-XjV4YbZF5Od",
        "outputId": "126fb751-9a7c-49ed-a0be-6cc213568727"
      },
      "execution_count": 5,
      "outputs": [
        {
          "output_type": "display_data",
          "data": {
            "text/plain": [
              "<Figure size 600x600 with 1 Axes>"
            ],
            "image/png": "[encoded data removed]"
          },
          "metadata": {}
        }
      ]
    },
    {
      "cell_type": "markdown",
      "source": [
        "# Visualize distance from MiBIG GCFs"
      ],
      "metadata": {
        "id": "o-CIGgnnW9zB"
      }
    },
    {
      "cell_type": "code",
      "source": [
        "# Bin distances\n",
        "bin_width = 0.1  # Adjust for your dataset\n",
        "bins = np.arange(0, 2, bin_width)\n",
        "df['Bin_1'] = pd.cut(df['Distance from MiBIG'], bins=bins, right=False)"
      ],
      "metadata": {
        "id": "ZsGLM0hcGBN6"
      },
      "execution_count": 6,
      "outputs": []
    },
    {
      "cell_type": "code",
      "source": [
        "# Pivot data for histogram\n",
        "bgc_classes = df['BGC class'].unique()\n",
        "hist_data_2 = df.groupby(['Bin_1', 'BGC class']).size().unstack(fill_value=0)"
      ],
      "metadata": {
        "colab": {
          "base_uri": "https://localhost:8080/"
        },
        "id": "v872QoFTVlUg",
        "outputId": "23ed8737-f99d-40a5-fbb5-e5ce6fcdeed8"
      },
      "execution_count": 7,
      "outputs": [
        {
          "output_type": "stream",
          "name": "stderr",
          "text": [
            "<ipython-input-7-949e990e5a57>:3: FutureWarning: The default of observed=False is deprecated and will be changed to True in a future version of pandas. Pass observed=False to retain current behavior or observed=True to adopt the future default and silence this warning.\n",
            "  hist_data_2 = df.groupby(['Bin_1', 'BGC class']).size().unstack(fill_value=0)\n"
          ]
        }
      ]
    },
    {
      "cell_type": "code",
      "source": [
        "# Plot histogram with stacked bars\n",
        "plt.figure(figsize=(6, 6))\n",
        "bottom = np.zeros(len(bins) - 1)\n",
        "\n",
        "for bgc_class in bgc_classes:\n",
        "    plt.bar(\n",
        "        bins[:-1],  # x-axis: bin edges\n",
        "        hist_data_2[bgc_class].reindex(hist_data_2.index, fill_value=0),\n",
        "        width=bin_width,\n",
        "        bottom=bottom,  # stack bars\n",
        "        label=bgc_class\n",
        "    )\n",
        "    bottom += hist_data_2[bgc_class].reindex(hist_data_2.index, fill_value=0)\n",
        "\n",
        "# Add labels, legend, and customization\n",
        "plt.xlabel(\"Distance to reference BGCs\")\n",
        "plt.ylabel(\"Number of BGCs\")\n",
        "plt.title(\"BGC distances to MiBIG GCFs\")\n",
        "plt.axvline(0.40, color='gray', linestyle='--', label=\"Reference\")\n",
        "plt.legend(title=\"BGC Class\")\n",
        "plt.tight_layout()\n",
        "\n",
        "plt.show()"
      ],
      "metadata": {
        "colab": {
          "base_uri": "https://localhost:8080/",
          "height": 607
        },
        "id": "P80bbBlVVySx",
        "outputId": "86448ea1-1a60-4084-bf6a-792f86f534e3"
      },
      "execution_count": 8,
      "outputs": [
        {
          "output_type": "display_data",
          "data": {
            "text/plain": [
              "<Figure size 600x600 with 1 Axes>"
            ],
            "image/png": "[encoded data removed]"
          },
          "metadata": {}
        }
      ]
    },
    {
      "cell_type": "code",
      "source": [],
      "metadata": {
        "id": "3cc4OkA2WhEq"
      },
      "execution_count": 8,
      "outputs": []
    }
  ]
}